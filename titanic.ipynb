{
  "nbformat": 4,
  "nbformat_minor": 0,
  "metadata": {
    "colab": {
      "name": "titanic.ipynb",
      "provenance": [],
      "include_colab_link": true
    },
    "kernelspec": {
      "name": "python3",
      "display_name": "Python 3"
    },
    "language_info": {
      "name": "python"
    }
  },
  "cells": [
    {
      "cell_type": "markdown",
      "metadata": {
        "id": "view-in-github",
        "colab_type": "text"
      },
      "source": [
        "<a href=\"https://colab.research.google.com/github/ermilovim/ml_kaggle/blob/main/titanic.ipynb\" target=\"_parent\"><img src=\"https://colab.research.google.com/assets/colab-badge.svg\" alt=\"Open In Colab\"/></a>"
      ]
    },
    {
      "cell_type": "code",
      "metadata": {
        "id": "_oRwJeqqGWB0"
      },
      "source": [
        "from sklearn.linear_model import LogisticRegression\n",
        "from sklearn.model_selection import cross_val_score, KFold, train_test_split\n",
        "from sklearn.preprocessing import StandardScaler, LabelEncoder, OneHotEncoder\n",
        "from sklearn.metrics import accuracy_score\n",
        "import pandas as pd\n"
      ],
      "execution_count": null,
      "outputs": []
    },
    {
      "cell_type": "code",
      "metadata": {
        "id": "-bO2uf7qIiBN"
      },
      "source": [
        "train = pd.read_csv('/content/drive/MyDrive/Воробьевы горы/Нейронные сети/titanic/train.csv')\n",
        "train['From'] = 1\n",
        "test = pd.read_csv('/content/drive/MyDrive/Воробьевы горы/Нейронные сети/titanic/test.csv')\n",
        "test['From'] = 0\n",
        "all = [train, test]"
      ],
      "execution_count": null,
      "outputs": []
    },
    {
      "cell_type": "code",
      "source": [
        "for dataframe in all:\n",
        "    dataframe['Sal'] = dataframe['Name'].str.extract(r' ([A-Za-z]+)\\. ')\n",
        "    dataframe['TickTag'] = dataframe['Ticket'].str.extract(r'([A-Z])')\n",
        "    dataframe['Deck'] = dataframe['Cabin'].str.extract(r'([A-Z])')\n",
        "    dataframe['Rel'] = dataframe['SibSp'] + dataframe['Parch']\n",
        "\n",
        "    # Drop the Unnecessary Data\n",
        "    dataframe.drop(['Name', 'SibSp', 'Parch', 'Ticket', 'Cabin'], axis=1, inplace=True)\n",
        "\n",
        "# Find Missing Values\n",
        "# print(df_train.isna().sum())\n",
        "# print(df_test.isna().sum())\n",
        "\n",
        "# Fill Missing Values and Organize the Dataframe\n",
        "for dataframe in all:\n",
        "    # Sal\n",
        "    dataframe['Sal'] = dataframe['Sal'].replace(['Dr', 'Rev', 'Major', 'Col', 'Countess', 'Capt', 'Sir', 'Lady',\n",
        "                                                 'Dona', 'Don', 'Jonkheer'], 'Others')\n",
        "    dataframe['Sal'] = dataframe['Sal'].replace(['Ms', 'Mlle'], 'Miss')\n",
        "    dataframe['Sal'] = dataframe['Sal'].replace('Mme', 'Mrs')\n",
        "    # Age\n",
        "    dataframe.loc[(dataframe['Pclass'] == 1) & (dataframe['Sex'] == 'female'), 'Age'] = dataframe[\n",
        "        (dataframe['Pclass'] == 1) & (dataframe['Sex'] == 'female')]['Age'].fillna(dataframe[\n",
        "            (dataframe['Pclass'] == 1) & (dataframe['Sex'] == 'female')]['Age'].mean())\n",
        "    dataframe.loc[(dataframe['Pclass'] == 1) & (dataframe['Sex'] == 'male'), 'Age'] = dataframe[\n",
        "        (dataframe['Pclass'] == 1) & (dataframe['Sex'] == 'male')]['Age'].fillna(dataframe[\n",
        "            (dataframe['Pclass'] == 1) & (dataframe['Sex'] == 'male')]['Age'].mean())\n",
        "    dataframe.loc[(dataframe['Pclass'] == 2) & (dataframe['Sex'] == 'female'), 'Age'] = dataframe[\n",
        "        (dataframe['Pclass'] == 2) & (dataframe['Sex'] == 'female')]['Age'].fillna(dataframe[\n",
        "            (dataframe['Pclass'] == 2) & (dataframe['Sex'] == 'female')]['Age'].mean())\n",
        "    dataframe.loc[(dataframe['Pclass'] == 2) & (dataframe['Sex'] == 'male'), 'Age'] = dataframe[\n",
        "        (dataframe['Pclass'] == 2) & (dataframe['Sex'] == 'male')]['Age'].fillna(dataframe[\n",
        "            (dataframe['Pclass'] == 2) & (dataframe['Sex'] == 'male')]['Age'].mean())\n",
        "    dataframe.loc[(dataframe['Pclass'] == 3) & (dataframe['Sex'] == 'female'), 'Age'] = dataframe[\n",
        "        (dataframe['Pclass'] == 3) & (dataframe['Sex'] == 'female')]['Age'].fillna(dataframe[\n",
        "            (dataframe['Pclass'] == 3) & (dataframe['Sex'] == 'female')]['Age'].mean())\n",
        "    dataframe.loc[(dataframe['Pclass'] == 3) & (dataframe['Sex'] == 'male'), 'Age'] = dataframe[\n",
        "        (dataframe['Pclass'] == 3) & (dataframe['Sex'] == 'male')]['Age'].fillna(dataframe[\n",
        "            (dataframe['Pclass'] == 3) & (dataframe['Sex'] == 'male')]['Age'].mean())\n",
        "\n",
        "    # Embarked\n",
        "    dataframe['Embarked'] = dataframe['Embarked'].fillna(dataframe['Embarked'].describe().top)\n",
        "\n",
        "    # Ticket_Tag\n",
        "    dataframe['TickTag'] = dataframe['TickTag'].fillna('U')\n",
        "\n",
        "    # Deck\n",
        "    dataframe['Deck'] = dataframe['Deck'].fillna('U')\n",
        "\n",
        "    # Fare\n",
        "    dataframe['Fare'] = dataframe['Fare'].fillna(dataframe['Fare'].mean())\n",
        "\n",
        "# print(df_train.info())\n",
        "# print(df_test.info())\n",
        "\n",
        "# Numeric Features\n",
        "for dataframe in all:\n",
        "    # Sex\n",
        "    sex_dict = {'male': 0, 'female': 1}\n",
        "    dataframe['Sex'] = dataframe['Sex'].map(sex_dict)\n",
        "\n",
        "    # Age\n",
        "    dataframe.loc[(dataframe['Age'] <= 1), 'Age'] = 0\n",
        "    dataframe.loc[(dataframe['Age'] > 1) & (dataframe['Age'] <= 10), 'Age'] = 1\n",
        "    dataframe.loc[(dataframe['Age'] > 10) & (dataframe['Age'] <= 18), 'Age'] = 2\n",
        "    dataframe.loc[(dataframe['Age'] > 18) & (dataframe['Age'] <= 30), 'Age'] = 3\n",
        "    dataframe.loc[(dataframe['Age'] > 30) & (dataframe['Age'] <= 45), 'Age'] = 4\n",
        "    dataframe.loc[(dataframe['Age'] > 45) & (dataframe['Age'] <= 60), 'Age'] = 5\n",
        "    dataframe.loc[(dataframe['Age'] > 60), 'Age'] = 6\n",
        "\n",
        "    # Fare\n",
        "    dataframe.loc[(dataframe['Fare'] <= 8), 'Fare'] = 0\n",
        "    dataframe.loc[(dataframe['Fare'] > 8) & (dataframe['Fare'] <= 15), 'Fare'] = 1\n",
        "    dataframe.loc[(dataframe['Fare'] > 15) & (dataframe['Fare'] <= 30), 'Fare'] = 2\n",
        "    dataframe.loc[(dataframe['Fare'] > 30) & (dataframe['Fare'] <= 100), 'Fare'] = 3\n",
        "    dataframe.loc[(dataframe['Fare'] > 100) & (dataframe['Fare'] <= 150), 'Fare'] = 4\n",
        "    dataframe.loc[(dataframe['Fare'] > 250), 'Fare'] = 5\n",
        "\n",
        "    # Embarked\n",
        "    embarked_dict = {'S': 0, 'C': 1, 'Q': 2}\n",
        "    dataframe['Embarked'] = dataframe['Embarked'].map(embarked_dict)\n",
        "\n",
        "    # Sal\n",
        "    sal_dict = {'Mr': 0, 'Miss': 1, 'Mrs': 2, 'Master': 3, 'Others': 4}\n",
        "    dataframe['Sal'] = dataframe['Sal'].map(sal_dict)\n",
        "\n",
        "    # TickTag\n",
        "    tick_tag_dict = {'U': 0, 'P': 1, 'S': 2, 'C': 3, 'A': 4, 'W': 5, 'F': 6, 'L': 7}\n",
        "    dataframe['TickTag'] = dataframe['TickTag'].map(tick_tag_dict)\n",
        "\n",
        "    # Deck\n",
        "    deck_dict = {'U': 0, 'C': 1, 'B': 2, 'D': 3, 'E': 4, 'A': 5, 'F': 6, 'G': 7, 'T': 8}\n",
        "    dataframe['Deck'] = dataframe['Deck'].map(deck_dict)\n",
        "\n",
        "    # Age\n",
        "    dataframe['Age'] = dataframe['Age'].astype('int64')\n",
        "\n",
        "    # Fare\n",
        "    dataframe['Fare'] = dataframe['Fare'].astype('int64')"
      ],
      "metadata": {
        "id": "ICD8CNwOKwtD"
      },
      "execution_count": null,
      "outputs": []
    },
    {
      "cell_type": "code",
      "source": [
        "train.head()"
      ],
      "metadata": {
        "colab": {
          "base_uri": "https://localhost:8080/",
          "height": 206
        },
        "id": "IV1K4xTUVk1r",
        "outputId": "e479bc1a-d372-40b0-d815-87d787c7aaf6"
      },
      "execution_count": null,
      "outputs": [
        {
          "output_type": "execute_result",
          "data": {
            "text/html": [
              "<div>\n",
              "<style scoped>\n",
              "    .dataframe tbody tr th:only-of-type {\n",
              "        vertical-align: middle;\n",
              "    }\n",
              "\n",
              "    .dataframe tbody tr th {\n",
              "        vertical-align: top;\n",
              "    }\n",
              "\n",
              "    .dataframe thead th {\n",
              "        text-align: right;\n",
              "    }\n",
              "</style>\n",
              "<table border=\"1\" class=\"dataframe\">\n",
              "  <thead>\n",
              "    <tr style=\"text-align: right;\">\n",
              "      <th></th>\n",
              "      <th>PassengerId</th>\n",
              "      <th>Survived</th>\n",
              "      <th>Pclass</th>\n",
              "      <th>Sex</th>\n",
              "      <th>Age</th>\n",
              "      <th>Fare</th>\n",
              "      <th>Embarked</th>\n",
              "      <th>From</th>\n",
              "      <th>Sal</th>\n",
              "      <th>TickTag</th>\n",
              "      <th>Deck</th>\n",
              "      <th>Rel</th>\n",
              "    </tr>\n",
              "  </thead>\n",
              "  <tbody>\n",
              "    <tr>\n",
              "      <th>0</th>\n",
              "      <td>1</td>\n",
              "      <td>0</td>\n",
              "      <td>3</td>\n",
              "      <td>0</td>\n",
              "      <td>3</td>\n",
              "      <td>0</td>\n",
              "      <td>0</td>\n",
              "      <td>1</td>\n",
              "      <td>0</td>\n",
              "      <td>4</td>\n",
              "      <td>0</td>\n",
              "      <td>1</td>\n",
              "    </tr>\n",
              "    <tr>\n",
              "      <th>1</th>\n",
              "      <td>2</td>\n",
              "      <td>1</td>\n",
              "      <td>1</td>\n",
              "      <td>1</td>\n",
              "      <td>4</td>\n",
              "      <td>3</td>\n",
              "      <td>1</td>\n",
              "      <td>1</td>\n",
              "      <td>2</td>\n",
              "      <td>1</td>\n",
              "      <td>1</td>\n",
              "      <td>1</td>\n",
              "    </tr>\n",
              "    <tr>\n",
              "      <th>2</th>\n",
              "      <td>3</td>\n",
              "      <td>1</td>\n",
              "      <td>3</td>\n",
              "      <td>1</td>\n",
              "      <td>3</td>\n",
              "      <td>0</td>\n",
              "      <td>0</td>\n",
              "      <td>1</td>\n",
              "      <td>1</td>\n",
              "      <td>2</td>\n",
              "      <td>0</td>\n",
              "      <td>0</td>\n",
              "    </tr>\n",
              "    <tr>\n",
              "      <th>3</th>\n",
              "      <td>4</td>\n",
              "      <td>1</td>\n",
              "      <td>1</td>\n",
              "      <td>1</td>\n",
              "      <td>4</td>\n",
              "      <td>3</td>\n",
              "      <td>0</td>\n",
              "      <td>1</td>\n",
              "      <td>2</td>\n",
              "      <td>0</td>\n",
              "      <td>1</td>\n",
              "      <td>1</td>\n",
              "    </tr>\n",
              "    <tr>\n",
              "      <th>4</th>\n",
              "      <td>5</td>\n",
              "      <td>0</td>\n",
              "      <td>3</td>\n",
              "      <td>0</td>\n",
              "      <td>4</td>\n",
              "      <td>1</td>\n",
              "      <td>0</td>\n",
              "      <td>1</td>\n",
              "      <td>0</td>\n",
              "      <td>0</td>\n",
              "      <td>0</td>\n",
              "      <td>0</td>\n",
              "    </tr>\n",
              "  </tbody>\n",
              "</table>\n",
              "</div>"
            ],
            "text/plain": [
              "   PassengerId  Survived  Pclass  Sex  Age  ...  From  Sal  TickTag  Deck  Rel\n",
              "0            1         0       3    0    3  ...     1    0        4     0    1\n",
              "1            2         1       1    1    4  ...     1    2        1     1    1\n",
              "2            3         1       3    1    3  ...     1    1        2     0    0\n",
              "3            4         1       1    1    4  ...     1    2        0     1    1\n",
              "4            5         0       3    0    4  ...     1    0        0     0    0\n",
              "\n",
              "[5 rows x 12 columns]"
            ]
          },
          "metadata": {},
          "execution_count": 30
        }
      ]
    },
    {
      "cell_type": "code",
      "metadata": {
        "colab": {
          "base_uri": "https://localhost:8080/",
          "height": 206
        },
        "id": "VLr8Jj9YZkJz",
        "outputId": "679eda66-4bd6-4391-c187-1d489e7b2b8e"
      },
      "source": [
        "test.head()"
      ],
      "execution_count": null,
      "outputs": [
        {
          "output_type": "execute_result",
          "data": {
            "text/html": [
              "<div>\n",
              "<style scoped>\n",
              "    .dataframe tbody tr th:only-of-type {\n",
              "        vertical-align: middle;\n",
              "    }\n",
              "\n",
              "    .dataframe tbody tr th {\n",
              "        vertical-align: top;\n",
              "    }\n",
              "\n",
              "    .dataframe thead th {\n",
              "        text-align: right;\n",
              "    }\n",
              "</style>\n",
              "<table border=\"1\" class=\"dataframe\">\n",
              "  <thead>\n",
              "    <tr style=\"text-align: right;\">\n",
              "      <th></th>\n",
              "      <th>PassengerId</th>\n",
              "      <th>Pclass</th>\n",
              "      <th>Sex</th>\n",
              "      <th>Age</th>\n",
              "      <th>Fare</th>\n",
              "      <th>Embarked</th>\n",
              "      <th>From</th>\n",
              "      <th>Sal</th>\n",
              "      <th>TickTag</th>\n",
              "      <th>Deck</th>\n",
              "      <th>Rel</th>\n",
              "    </tr>\n",
              "  </thead>\n",
              "  <tbody>\n",
              "    <tr>\n",
              "      <th>0</th>\n",
              "      <td>892</td>\n",
              "      <td>3</td>\n",
              "      <td>0</td>\n",
              "      <td>4</td>\n",
              "      <td>0</td>\n",
              "      <td>2</td>\n",
              "      <td>0</td>\n",
              "      <td>0.0</td>\n",
              "      <td>NaN</td>\n",
              "      <td>NaN</td>\n",
              "      <td>0</td>\n",
              "    </tr>\n",
              "    <tr>\n",
              "      <th>1</th>\n",
              "      <td>893</td>\n",
              "      <td>3</td>\n",
              "      <td>1</td>\n",
              "      <td>5</td>\n",
              "      <td>0</td>\n",
              "      <td>0</td>\n",
              "      <td>0</td>\n",
              "      <td>2.0</td>\n",
              "      <td>NaN</td>\n",
              "      <td>NaN</td>\n",
              "      <td>1</td>\n",
              "    </tr>\n",
              "    <tr>\n",
              "      <th>2</th>\n",
              "      <td>894</td>\n",
              "      <td>2</td>\n",
              "      <td>0</td>\n",
              "      <td>6</td>\n",
              "      <td>1</td>\n",
              "      <td>2</td>\n",
              "      <td>0</td>\n",
              "      <td>0.0</td>\n",
              "      <td>NaN</td>\n",
              "      <td>NaN</td>\n",
              "      <td>0</td>\n",
              "    </tr>\n",
              "    <tr>\n",
              "      <th>3</th>\n",
              "      <td>895</td>\n",
              "      <td>3</td>\n",
              "      <td>0</td>\n",
              "      <td>3</td>\n",
              "      <td>1</td>\n",
              "      <td>0</td>\n",
              "      <td>0</td>\n",
              "      <td>0.0</td>\n",
              "      <td>NaN</td>\n",
              "      <td>NaN</td>\n",
              "      <td>0</td>\n",
              "    </tr>\n",
              "    <tr>\n",
              "      <th>4</th>\n",
              "      <td>896</td>\n",
              "      <td>3</td>\n",
              "      <td>1</td>\n",
              "      <td>3</td>\n",
              "      <td>1</td>\n",
              "      <td>0</td>\n",
              "      <td>0</td>\n",
              "      <td>2.0</td>\n",
              "      <td>NaN</td>\n",
              "      <td>NaN</td>\n",
              "      <td>2</td>\n",
              "    </tr>\n",
              "  </tbody>\n",
              "</table>\n",
              "</div>"
            ],
            "text/plain": [
              "   PassengerId  Pclass  Sex  Age  Fare  Embarked  From  Sal  TickTag  Deck  Rel\n",
              "0          892       3    0    4     0         2     0  0.0      NaN   NaN    0\n",
              "1          893       3    1    5     0         0     0  2.0      NaN   NaN    1\n",
              "2          894       2    0    6     1         2     0  0.0      NaN   NaN    0\n",
              "3          895       3    0    3     1         0     0  0.0      NaN   NaN    0\n",
              "4          896       3    1    3     1         0     0  2.0      NaN   NaN    2"
            ]
          },
          "metadata": {},
          "execution_count": 20
        }
      ]
    },
    {
      "cell_type": "code",
      "metadata": {
        "colab": {
          "base_uri": "https://localhost:8080/"
        },
        "id": "LKOmmmdVIyNZ",
        "outputId": "99f4fe99-def5-419f-be5e-612d1a9cb26a"
      },
      "source": [
        "df.shape"
      ],
      "execution_count": null,
      "outputs": [
        {
          "output_type": "execute_result",
          "data": {
            "text/plain": [
              "(891, 23)"
            ]
          },
          "metadata": {},
          "execution_count": 88
        }
      ]
    },
    {
      "cell_type": "code",
      "metadata": {
        "id": "Ry7OqWPOIvmm"
      },
      "source": [
        "df = df.drop('Name', axis=1)\n",
        "df = df.drop('Ticket', axis=1)\n",
        "sex = {'male': 0, 'female': 1}\n",
        "df['Sex'] = df['Sex'].map(sex)"
      ],
      "execution_count": null,
      "outputs": []
    },
    {
      "cell_type": "code",
      "metadata": {
        "id": "bnDR_8zfSGxj"
      },
      "source": [
        "le = LabelEncoder()\n",
        "df['Embarked'] = le.fit_transform(df['Embarked'])"
      ],
      "execution_count": null,
      "outputs": []
    },
    {
      "cell_type": "code",
      "metadata": {
        "id": "dt_HYHhxSzm8"
      },
      "source": [
        "df['Cabin'] = le.fit_transform(df['Cabin'])"
      ],
      "execution_count": null,
      "outputs": []
    },
    {
      "cell_type": "code",
      "metadata": {
        "id": "DVCYiNhdFQjj"
      },
      "source": [
        "ohe = OneHotEncoder(sparse=False)\n",
        "embarked = ohe.fit_transform(df['Embarked'].values.reshape(-1, 1))\n",
        "tmp = pd.DataFrame(embarked,  \n",
        "                   columns=['emb ' + str(i) for i in range(embarked.shape[1])])\n",
        "df = pd.concat([df, tmp], axis=1)\n",
        "#cabin = ohe.fit_transform(df['Cabin'].values.reshape(-1, 1))\n",
        "#tmp = pd.DataFrame(cabin,  \n",
        "#                   columns=['cabin ' + str(i) for i in range(cabin.shape[1])])\n",
        "#df = pd.concat([df, tmp], axis=1)"
      ],
      "execution_count": null,
      "outputs": []
    },
    {
      "cell_type": "code",
      "metadata": {
        "id": "kHFHp-8HFeBY"
      },
      "source": [
        "encoded_embarked[0]"
      ],
      "execution_count": null,
      "outputs": []
    },
    {
      "cell_type": "code",
      "metadata": {
        "id": "k7RtIcfDJeuM"
      },
      "source": [
        "df.head()"
      ],
      "execution_count": null,
      "outputs": []
    },
    {
      "cell_type": "code",
      "metadata": {
        "id": "pZUGO69AJ8g1"
      },
      "source": [
        "X = train.drop('Survived', axis=1)\n",
        "y = train['Survived']"
      ],
      "execution_count": null,
      "outputs": []
    },
    {
      "cell_type": "code",
      "metadata": {
        "id": "yiCrQImUKQh9"
      },
      "source": [
        "cv = KFold(n_splits=3, shuffle=True, random_state=42)"
      ],
      "execution_count": null,
      "outputs": []
    },
    {
      "cell_type": "code",
      "source": [
        "X_train, X_test, y_train, y_test = train_test_split(X, y, test_size=0.3, random_state=42)"
      ],
      "metadata": {
        "id": "txk2Dz14YDh_"
      },
      "execution_count": null,
      "outputs": []
    },
    {
      "cell_type": "code",
      "metadata": {
        "colab": {
          "base_uri": "https://localhost:8080/"
        },
        "id": "dGeUGmTxJhFl",
        "outputId": "8ad2c54f-34d1-4666-e150-1785037cd41f"
      },
      "source": [
        "clf = LogisticRegression(random_state=1)\n",
        "clf.fit(X_train, y_train)\n",
        "# scores = cross_val_score(clf, X, y, cv=cv, n_jobs=-1)\n",
        "# print(scores)\n",
        "print(accuracy_score(y_test, clf.predict(X_test)))"
      ],
      "execution_count": null,
      "outputs": [
        {
          "output_type": "stream",
          "name": "stdout",
          "text": [
            "0.8097014925373134\n"
          ]
        },
        {
          "output_type": "stream",
          "name": "stderr",
          "text": [
            "/usr/local/lib/python3.7/dist-packages/sklearn/linear_model/_logistic.py:818: ConvergenceWarning: lbfgs failed to converge (status=1):\n",
            "STOP: TOTAL NO. of ITERATIONS REACHED LIMIT.\n",
            "\n",
            "Increase the number of iterations (max_iter) or scale the data as shown in:\n",
            "    https://scikit-learn.org/stable/modules/preprocessing.html\n",
            "Please also refer to the documentation for alternative solver options:\n",
            "    https://scikit-learn.org/stable/modules/linear_model.html#logistic-regression\n",
            "  extra_warning_msg=_LOGISTIC_SOLVER_CONVERGENCE_MSG,\n"
          ]
        }
      ]
    },
    {
      "cell_type": "code",
      "source": [
        "clf = LogisticRegression(random_state=1)\n",
        "clf.fit(X, y) "
      ],
      "metadata": {
        "colab": {
          "base_uri": "https://localhost:8080/"
        },
        "id": "cxW0qecDZJFN",
        "outputId": "e42d26ad-da0f-463a-d993-e7f1d31670ba"
      },
      "execution_count": null,
      "outputs": [
        {
          "output_type": "stream",
          "name": "stderr",
          "text": [
            "/usr/local/lib/python3.7/dist-packages/sklearn/linear_model/_logistic.py:818: ConvergenceWarning: lbfgs failed to converge (status=1):\n",
            "STOP: TOTAL NO. of ITERATIONS REACHED LIMIT.\n",
            "\n",
            "Increase the number of iterations (max_iter) or scale the data as shown in:\n",
            "    https://scikit-learn.org/stable/modules/preprocessing.html\n",
            "Please also refer to the documentation for alternative solver options:\n",
            "    https://scikit-learn.org/stable/modules/linear_model.html#logistic-regression\n",
            "  extra_warning_msg=_LOGISTIC_SOLVER_CONVERGENCE_MSG,\n"
          ]
        },
        {
          "output_type": "execute_result",
          "data": {
            "text/plain": [
              "LogisticRegression(random_state=1)"
            ]
          },
          "metadata": {},
          "execution_count": 48
        }
      ]
    },
    {
      "cell_type": "code",
      "metadata": {
        "id": "C7bGyl-gWmaD"
      },
      "source": [
        "test_df = pd.read_csv('/content/drive/MyDrive/Воробьевы горы/Нейронные сети/titanic/test.csv')\n",
        "test_df.head()"
      ],
      "execution_count": null,
      "outputs": []
    },
    {
      "cell_type": "code",
      "metadata": {
        "colab": {
          "base_uri": "https://localhost:8080/"
        },
        "id": "3-0jqeG6Z6zk",
        "outputId": "a8fb07e8-0a94-4683-8148-e4c4634c6455"
      },
      "source": [
        "test_df['Embarked'][0] = '0'"
      ],
      "execution_count": null,
      "outputs": [
        {
          "output_type": "stream",
          "name": "stderr",
          "text": [
            "/usr/local/lib/python3.7/dist-packages/ipykernel_launcher.py:1: SettingWithCopyWarning: \n",
            "A value is trying to be set on a copy of a slice from a DataFrame\n",
            "\n",
            "See the caveats in the documentation: https://pandas.pydata.org/pandas-docs/stable/user_guide/indexing.html#returning-a-view-versus-a-copy\n",
            "  \"\"\"Entry point for launching an IPython kernel.\n"
          ]
        }
      ]
    },
    {
      "cell_type": "code",
      "metadata": {
        "id": "RCw5hY9_Xkor"
      },
      "source": [
        "test_df = test_df.fillna('0')"
      ],
      "execution_count": null,
      "outputs": []
    },
    {
      "cell_type": "code",
      "metadata": {
        "id": "i-rDJIxPXWX7"
      },
      "source": [
        "for i in range(len(test_df['Cabin'])):\n",
        "  test_df['Cabin'][i] = test_df['Cabin'][i][0]\n",
        "  print(test_df['Cabin'][i])"
      ],
      "execution_count": null,
      "outputs": []
    },
    {
      "cell_type": "code",
      "metadata": {
        "id": "T_A7S-yjXmPQ"
      },
      "source": [
        "test_df = test_df.fillna('0')\n",
        "test_df = test_df.drop('Name', axis=1)\n",
        "test_df = test_df.drop('Ticket', axis=1)\n",
        "sex = {'male': 0, 'female': 1}\n",
        "test_df['Sex'] = test_df['Sex'].map(sex)\n",
        "\n",
        "test_df['Embarked'] = le.fit_transform(test_df['Embarked'])\n",
        "test_df['Cabin'] = le.fit_transform(test_df['Cabin'])\n",
        "test_embarked = ohe.fit_transform(test_df['Embarked'].values.reshape(-1, 1))\n",
        "tmp = pd.DataFrame(test_embarked,  \n",
        "                   columns=['emb ' + str(i) for i in range(test_embarked.shape[1])])\n",
        "test_df = pd.concat([test_df, tmp], axis=1)\n",
        "# test_cabin = ohe.fit_transform(test_df['Cabin'].values.reshape(-1, 1))\n",
        "# tmp = pd.DataFrame(test_cabin,  \n",
        "#                    columns=['cabin ' + str(i) for i in range(test_cabin.shape[1])])\n",
        "# test_df = pd.concat([test_df, tmp], axis=1)"
      ],
      "execution_count": null,
      "outputs": []
    },
    {
      "cell_type": "code",
      "metadata": {
        "id": "6T-iItD7X3zQ",
        "colab": {
          "base_uri": "https://localhost:8080/",
          "height": 206
        },
        "outputId": "564e6255-63a8-4b6e-f65f-cf3fb252332a"
      },
      "source": [
        "test_df.head()"
      ],
      "execution_count": null,
      "outputs": [
        {
          "output_type": "execute_result",
          "data": {
            "text/html": [
              "<div>\n",
              "<style scoped>\n",
              "    .dataframe tbody tr th:only-of-type {\n",
              "        vertical-align: middle;\n",
              "    }\n",
              "\n",
              "    .dataframe tbody tr th {\n",
              "        vertical-align: top;\n",
              "    }\n",
              "\n",
              "    .dataframe thead th {\n",
              "        text-align: right;\n",
              "    }\n",
              "</style>\n",
              "<table border=\"1\" class=\"dataframe\">\n",
              "  <thead>\n",
              "    <tr style=\"text-align: right;\">\n",
              "      <th></th>\n",
              "      <th>PassengerId</th>\n",
              "      <th>Pclass</th>\n",
              "      <th>Sex</th>\n",
              "      <th>Age</th>\n",
              "      <th>SibSp</th>\n",
              "      <th>Parch</th>\n",
              "      <th>Fare</th>\n",
              "      <th>Cabin</th>\n",
              "      <th>Embarked</th>\n",
              "      <th>emb 0</th>\n",
              "      <th>emb 1</th>\n",
              "      <th>emb 2</th>\n",
              "      <th>emb 3</th>\n",
              "    </tr>\n",
              "  </thead>\n",
              "  <tbody>\n",
              "    <tr>\n",
              "      <th>0</th>\n",
              "      <td>892</td>\n",
              "      <td>3</td>\n",
              "      <td>0</td>\n",
              "      <td>34.5</td>\n",
              "      <td>0</td>\n",
              "      <td>0</td>\n",
              "      <td>7.8292</td>\n",
              "      <td>0</td>\n",
              "      <td>0</td>\n",
              "      <td>1.0</td>\n",
              "      <td>0.0</td>\n",
              "      <td>0.0</td>\n",
              "      <td>0.0</td>\n",
              "    </tr>\n",
              "    <tr>\n",
              "      <th>1</th>\n",
              "      <td>893</td>\n",
              "      <td>3</td>\n",
              "      <td>1</td>\n",
              "      <td>47</td>\n",
              "      <td>1</td>\n",
              "      <td>0</td>\n",
              "      <td>7</td>\n",
              "      <td>0</td>\n",
              "      <td>3</td>\n",
              "      <td>0.0</td>\n",
              "      <td>0.0</td>\n",
              "      <td>0.0</td>\n",
              "      <td>1.0</td>\n",
              "    </tr>\n",
              "    <tr>\n",
              "      <th>2</th>\n",
              "      <td>894</td>\n",
              "      <td>2</td>\n",
              "      <td>0</td>\n",
              "      <td>62</td>\n",
              "      <td>0</td>\n",
              "      <td>0</td>\n",
              "      <td>9.6875</td>\n",
              "      <td>0</td>\n",
              "      <td>2</td>\n",
              "      <td>0.0</td>\n",
              "      <td>0.0</td>\n",
              "      <td>1.0</td>\n",
              "      <td>0.0</td>\n",
              "    </tr>\n",
              "    <tr>\n",
              "      <th>3</th>\n",
              "      <td>895</td>\n",
              "      <td>3</td>\n",
              "      <td>0</td>\n",
              "      <td>27</td>\n",
              "      <td>0</td>\n",
              "      <td>0</td>\n",
              "      <td>8.6625</td>\n",
              "      <td>0</td>\n",
              "      <td>3</td>\n",
              "      <td>0.0</td>\n",
              "      <td>0.0</td>\n",
              "      <td>0.0</td>\n",
              "      <td>1.0</td>\n",
              "    </tr>\n",
              "    <tr>\n",
              "      <th>4</th>\n",
              "      <td>896</td>\n",
              "      <td>3</td>\n",
              "      <td>1</td>\n",
              "      <td>22</td>\n",
              "      <td>1</td>\n",
              "      <td>1</td>\n",
              "      <td>12.2875</td>\n",
              "      <td>0</td>\n",
              "      <td>3</td>\n",
              "      <td>0.0</td>\n",
              "      <td>0.0</td>\n",
              "      <td>0.0</td>\n",
              "      <td>1.0</td>\n",
              "    </tr>\n",
              "  </tbody>\n",
              "</table>\n",
              "</div>"
            ],
            "text/plain": [
              "   PassengerId  Pclass  Sex   Age  SibSp  ...  Embarked emb 0  emb 1  emb 2  emb 3\n",
              "0          892       3    0  34.5      0  ...         0   1.0    0.0    0.0    0.0\n",
              "1          893       3    1    47      1  ...         3   0.0    0.0    0.0    1.0\n",
              "2          894       2    0    62      0  ...         2   0.0    0.0    1.0    0.0\n",
              "3          895       3    0    27      0  ...         3   0.0    0.0    0.0    1.0\n",
              "4          896       3    1    22      1  ...         3   0.0    0.0    0.0    1.0\n",
              "\n",
              "[5 rows x 13 columns]"
            ]
          },
          "metadata": {},
          "execution_count": 147
        }
      ]
    },
    {
      "cell_type": "code",
      "metadata": {
        "id": "sUJc2TWIYUPB"
      },
      "source": [
        "X_test = test"
      ],
      "execution_count": null,
      "outputs": []
    },
    {
      "cell_type": "code",
      "metadata": {
        "id": "xwMo_nGwYm48"
      },
      "source": [
        "predictions = clf.predict(X_test)"
      ],
      "execution_count": null,
      "outputs": []
    },
    {
      "cell_type": "code",
      "metadata": {
        "id": "EIE9qPYQZ7ql"
      },
      "source": [
        "with open('.../titanic_submission_1.csv', 'w') as file:\n",
        "  file.write(\"PassengerId,Survived\\n\")\n",
        "  for i in range(len(predictions)):\n",
        "    print(test['PassengerId'][i], predictions[i])\n",
        "    file.write(str(test['PassengerId'][i]) + \",\" + str(predictions[i]) + \"\\n\")"
      ],
      "execution_count": null,
      "outputs": []
    }
  ]
}